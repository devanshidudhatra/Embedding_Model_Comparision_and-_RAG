{
 "cells": [
  {
   "cell_type": "markdown",
   "metadata": {},
   "source": [
    "1️⃣ Load the FinanceBench Dataset\n",
    "We'll use Hugging Face Datasets to fetch the PatronusAI/financebench dataset.\n",
    "\n",
    "📌 What this dataset contains:\n",
    "\n",
    "Questions related to finance.\n",
    "Correct answers (so we can compare AI-generated answers)."
   ]
  },
  {
   "cell_type": "code",
   "execution_count": 2,
   "metadata": {},
   "outputs": [
    {
     "name": "stdout",
     "output_type": "stream",
     "text": [
      "DatasetDict({\n",
      "    train: Dataset({\n",
      "        features: ['financebench_id', 'company', 'doc_name', 'question_type', 'question_reasoning', 'domain_question_num', 'question', 'answer', 'justification', 'dataset_subset_label', 'evidence', 'gics_sector', 'doc_type', 'doc_period', 'doc_link'],\n",
      "        num_rows: 150\n",
      "    })\n",
      "})\n"
     ]
    }
   ],
   "source": [
    "from datasets import load_dataset\n",
    "\n",
    "# Load FinanceBench dataset from Hugging Face\n",
    "dataset = load_dataset(\"PatronusAI/financebench\")\n",
    "\n",
    "# Print the first sample\n",
    "print(dataset)\n"
   ]
  },
  {
   "cell_type": "code",
   "execution_count": 3,
   "metadata": {},
   "outputs": [
    {
     "name": "stdout",
     "output_type": "stream",
     "text": [
      "{'financebench_id': 'financebench_id_03029', 'company': '3M', 'doc_name': '3M_2018_10K', 'question_type': 'metrics-generated', 'question_reasoning': 'Information extraction', 'domain_question_num': None, 'question': 'What is the FY2018 capital expenditure amount (in USD millions) for 3M? Give a response to the question by relying on the details shown in the cash flow statement.', 'answer': '$1577.00', 'justification': 'The metric capital expenditures was directly extracted from the company 10K. The line item name, as seen in the 10K, was: Purchases of property, plant and equipment (PP&E).', 'dataset_subset_label': 'OPEN_SOURCE', 'evidence': [{'evidence_text': 'Table of Contents \\n3M Company and Subsidiaries\\nConsolidated Statement of Cash Flow s\\nYears ended December 31\\n \\n(Millions)\\n \\n2018\\n \\n2017\\n \\n2016\\n \\nCash Flows from Operating Activities\\n \\n \\n \\n \\n \\n \\n \\nNet income including noncontrolling interest\\n \\n$\\n5,363 \\n$\\n4,869 \\n$\\n5,058 \\nAdjustments to reconcile net income including noncontrolling interest to net cash\\nprovided by operating activities\\n \\n \\n \\n \\n \\n \\n \\nDepreciation and amortization\\n \\n \\n1,488 \\n \\n1,544 \\n \\n1,474 \\nCompany pension and postretirement contributions\\n \\n \\n(370) \\n \\n(967) \\n \\n(383) \\nCompany pension and postretirement expense\\n \\n \\n410 \\n \\n334 \\n \\n250 \\nStock-based compensation expense\\n \\n \\n302 \\n \\n324 \\n \\n298 \\nGain on sale of businesses\\n \\n \\n(545) \\n \\n(586) \\n \\n(111) \\nDeferred income taxes\\n \\n \\n(57) \\n \\n107 \\n \\n 7 \\nChanges in assets and liabilities\\n \\n \\n \\n \\n \\n \\n \\nAccounts receivable\\n \\n \\n(305) \\n \\n(245) \\n \\n(313) \\nInventories\\n \\n \\n(509) \\n \\n(387) \\n \\n57 \\nAccounts payable\\n \\n \\n408 \\n \\n24 \\n \\n148 \\nAccrued income taxes (current and long-term)\\n \\n \\n134 \\n \\n967 \\n \\n101 \\nOther net\\n \\n \\n120 \\n \\n256 \\n \\n76 \\nNet cash provided by (used in) operating activities\\n \\n \\n6,439 \\n \\n6,240 \\n \\n6,662 \\n \\n \\n \\n \\n \\n \\n \\n \\nCash Flows from Investing Activities\\n \\n \\n \\n \\n \\n \\n \\nPurchases of property, plant and equipment (PP&E)\\n \\n \\n(1,577) \\n \\n(1,373) \\n \\n(1,420) \\nProceeds from sale of PP&E and other assets\\n \\n \\n262 \\n \\n49 \\n \\n58 \\nAcquisitions, net of cash acquired\\n \\n \\n13 \\n \\n(2,023) \\n \\n(16) \\nPurchases of marketable securities and investments\\n \\n \\n(1,828) \\n \\n(2,152) \\n \\n(1,410) \\nProceeds from maturities and sale of marketable securities and investments\\n \\n \\n2,497 \\n \\n1,354 \\n \\n1,247 \\nProceeds from sale of businesses, net of cash sold\\n \\n \\n846 \\n \\n1,065 \\n \\n142 \\nOther net\\n \\n \\n 9 \\n \\n(6) \\n \\n(4) \\nNet cash provided by (used in) investing activities\\n \\n \\n222 \\n \\n(3,086) \\n \\n(1,403) \\n \\n \\n \\n \\n \\n \\n \\n \\nCash Flows from Financing Activities\\n \\n \\n \\n \\n \\n \\n \\nChange in short-term debt net\\n \\n \\n(284) \\n \\n578 \\n \\n(797) \\nRepayment of debt (maturities greater than 90 days)\\n \\n \\n(1,034) \\n \\n(962) \\n \\n(992) \\nProceeds from debt (maturities greater than 90 days)\\n \\n \\n2,251 \\n \\n1,987 \\n \\n2,832 \\nPurchases of treasury stock\\n \\n \\n(4,870) \\n \\n(2,068) \\n \\n(3,753) \\nProceeds from issuance of treasury stock pursuant to stock option and benefit plans\\n \\n \\n485 \\n \\n734 \\n \\n804 \\nDividends paid to shareholders\\n \\n \\n(3,193) \\n \\n(2,803) \\n \\n(2,678) \\nOther net\\n \\n \\n(56) \\n \\n(121) \\n \\n(42) \\nNet cash provided by (used in) financing activities\\n \\n \\n(6,701) \\n \\n(2,655) \\n \\n(4,626) \\n \\n \\n \\n \\n \\n \\n \\n \\nEffect of exchange rate changes on cash and cash equivalents\\n \\n \\n(160) \\n \\n156 \\n \\n(33) \\n \\n \\n \\n \\n \\n \\n \\n \\nNet increase (decrease) in cash and cash equivalents\\n \\n \\n(200) \\n \\n655 \\n \\n600 \\nCash and cash equivalents at beginning of year\\n \\n \\n3,053 \\n \\n2,398 \\n \\n1,798 \\nCash and cash equivalents at end of period\\n \\n$\\n2,853 \\n$\\n3,053 \\n$\\n2,398 \\n \\nThe accompanying Notes to Consolidated Financial Statements are an integral part of this statement.\\n \\n60', 'doc_name': '3M_2018_10K', 'evidence_page_num': 59, 'evidence_text_full_page': 'Table of Contents \\n3M Company and Subsidiaries\\nConsolidated Statement of Cash Flow s\\nYears ended December 31\\n \\n(Millions)\\n \\n2018\\n \\n2017\\n \\n2016\\n \\nCash Flows from Operating Activities\\n \\n \\n \\n \\n \\n \\n \\nNet income including noncontrolling interest\\n \\n$\\n5,363 \\n$\\n4,869 \\n$\\n5,058 \\nAdjustments to reconcile net income including noncontrolling interest to net cash\\nprovided by operating activities\\n \\n \\n \\n \\n \\n \\n \\nDepreciation and amortization\\n \\n \\n1,488 \\n \\n1,544 \\n \\n1,474 \\nCompany pension and postretirement contributions\\n \\n \\n(370) \\n \\n(967) \\n \\n(383) \\nCompany pension and postretirement expense\\n \\n \\n410 \\n \\n334 \\n \\n250 \\nStock-based compensation expense\\n \\n \\n302 \\n \\n324 \\n \\n298 \\nGain on sale of businesses\\n \\n \\n(545) \\n \\n(586) \\n \\n(111) \\nDeferred income taxes\\n \\n \\n(57) \\n \\n107 \\n \\n 7 \\nChanges in assets and liabilities\\n \\n \\n \\n \\n \\n \\n \\nAccounts receivable\\n \\n \\n(305) \\n \\n(245) \\n \\n(313) \\nInventories\\n \\n \\n(509) \\n \\n(387) \\n \\n57 \\nAccounts payable\\n \\n \\n408 \\n \\n24 \\n \\n148 \\nAccrued income taxes (current and long-term)\\n \\n \\n134 \\n \\n967 \\n \\n101 \\nOther net\\n \\n \\n120 \\n \\n256 \\n \\n76 \\nNet cash provided by (used in) operating activities\\n \\n \\n6,439 \\n \\n6,240 \\n \\n6,662 \\n \\n \\n \\n \\n \\n \\n \\n \\nCash Flows from Investing Activities\\n \\n \\n \\n \\n \\n \\n \\nPurchases of property, plant and equipment (PP&E)\\n \\n \\n(1,577) \\n \\n(1,373) \\n \\n(1,420) \\nProceeds from sale of PP&E and other assets\\n \\n \\n262 \\n \\n49 \\n \\n58 \\nAcquisitions, net of cash acquired\\n \\n \\n13 \\n \\n(2,023) \\n \\n(16) \\nPurchases of marketable securities and investments\\n \\n \\n(1,828) \\n \\n(2,152) \\n \\n(1,410) \\nProceeds from maturities and sale of marketable securities and investments\\n \\n \\n2,497 \\n \\n1,354 \\n \\n1,247 \\nProceeds from sale of businesses, net of cash sold\\n \\n \\n846 \\n \\n1,065 \\n \\n142 \\nOther net\\n \\n \\n 9 \\n \\n(6) \\n \\n(4) \\nNet cash provided by (used in) investing activities\\n \\n \\n222 \\n \\n(3,086) \\n \\n(1,403) \\n \\n \\n \\n \\n \\n \\n \\n \\nCash Flows from Financing Activities\\n \\n \\n \\n \\n \\n \\n \\nChange in short-term debt net\\n \\n \\n(284) \\n \\n578 \\n \\n(797) \\nRepayment of debt (maturities greater than 90 days)\\n \\n \\n(1,034) \\n \\n(962) \\n \\n(992) \\nProceeds from debt (maturities greater than 90 days)\\n \\n \\n2,251 \\n \\n1,987 \\n \\n2,832 \\nPurchases of treasury stock\\n \\n \\n(4,870) \\n \\n(2,068) \\n \\n(3,753) \\nProceeds from issuance of treasury stock pursuant to stock option and benefit plans\\n \\n \\n485 \\n \\n734 \\n \\n804 \\nDividends paid to shareholders\\n \\n \\n(3,193) \\n \\n(2,803) \\n \\n(2,678) \\nOther net\\n \\n \\n(56) \\n \\n(121) \\n \\n(42) \\nNet cash provided by (used in) financing activities\\n \\n \\n(6,701) \\n \\n(2,655) \\n \\n(4,626) \\n \\n \\n \\n \\n \\n \\n \\n \\nEffect of exchange rate changes on cash and cash equivalents\\n \\n \\n(160) \\n \\n156 \\n \\n(33) \\n \\n \\n \\n \\n \\n \\n \\n \\nNet increase (decrease) in cash and cash equivalents\\n \\n \\n(200) \\n \\n655 \\n \\n600 \\nCash and cash equivalents at beginning of year\\n \\n \\n3,053 \\n \\n2,398 \\n \\n1,798 \\nCash and cash equivalents at end of period\\n \\n$\\n2,853 \\n$\\n3,053 \\n$\\n2,398 \\n \\nThe accompanying Notes to Consolidated Financial Statements are an integral part of this statement.\\n \\n60\\n \\n'}], 'gics_sector': 'Industrials', 'doc_type': '10k', 'doc_period': 2018, 'doc_link': 'https://investors.3m.com/financials/sec-filings/content/0001558370-19-000470/0001558370-19-000470.pdf'}\n"
     ]
    }
   ],
   "source": [
    "# Access the 'train' split and print the first sample\n",
    "print(dataset[\"train\"][0])"
   ]
  },
  {
   "cell_type": "markdown",
   "metadata": {},
   "source": [
    "1️⃣ Choose an embedding model\n",
    "I selected sentence-transformers/all-MiniLM-L6-v2 because:\n",
    "Lightweight & Efficient: It provides a good balance between speed and accuracy.\n",
    "Widely Used for RAG: Many Retrieval-Augmented Generation (RAG) pipelines use this model due to its solid performance.\n",
    "Good for Short to Medium Texts: Since FinanceBench contains questions and extracted answers, this model should work well."
   ]
  },
  {
   "cell_type": "code",
   "execution_count": 4,
   "metadata": {},
   "outputs": [
    {
     "name": "stdout",
     "output_type": "stream",
     "text": [
      "WARNING:tensorflow:From c:\\Users\\Devanshi\\AppData\\Local\\Programs\\Python\\Python312\\Lib\\site-packages\\tf_keras\\src\\losses.py:2976: The name tf.losses.sparse_softmax_cross_entropy is deprecated. Please use tf.compat.v1.losses.sparse_softmax_cross_entropy instead.\n",
      "\n",
      "Embedding shape: (3, 384)\n",
      "First embedding: [ 1.12690002e-01 -3.82464454e-02 -9.94690582e-02  3.06011401e-02\n",
      " -2.92430259e-03 -6.58726022e-02  1.49933957e-02  2.71477010e-02\n",
      " -4.16002050e-02  6.46698698e-02  4.24158983e-02 -1.29081145e-01\n",
      "  9.59772523e-03  6.77640084e-03  1.00542186e-02 -2.96222940e-02\n",
      " -3.14226970e-02 -2.56058928e-02  7.02778436e-03  1.84127339e-03\n",
      "  1.17701769e-01  1.14884712e-02 -6.59389840e-03 -2.97717154e-02\n",
      " -1.31422253e-02 -4.23453934e-02  3.16382386e-02 -2.71227546e-02\n",
      " -2.24149954e-02  1.28425909e-02  6.96373433e-02  8.12052786e-02\n",
      "  6.95080906e-02 -4.47679088e-02  5.41833788e-02  5.54373004e-02\n",
      " -6.17287643e-02 -1.18806483e-02 -1.68098360e-02  2.07485147e-02\n",
      " -4.69641527e-03 -1.07082929e-02  5.72595634e-02 -8.56259167e-02\n",
      "  3.35168876e-02  2.07521934e-02 -1.61946788e-02  7.56379366e-02\n",
      "  2.89442074e-02  7.24174529e-02  1.41105512e-02  1.09503893e-02\n",
      " -9.08032954e-02  5.77489212e-02  2.04948932e-02 -2.61491742e-02\n",
      "  2.01555192e-02  5.40038086e-02 -5.20509593e-02  4.59780544e-03\n",
      " -6.54664636e-02 -2.27151848e-02 -4.14896421e-02 -2.62380969e-02\n",
      "  1.17672116e-01  3.98114286e-02 -2.53716167e-02 -9.07250792e-02\n",
      " -5.25476672e-02  6.29487783e-02  5.27247740e-03 -7.49423131e-02\n",
      " -3.58780660e-02 -9.38757360e-02 -5.58872595e-02 -1.82774626e-02\n",
      "  9.14821252e-02  7.85664544e-02  3.45664024e-02 -2.86031198e-02\n",
      "  2.33153421e-02 -1.26115344e-02  6.96464721e-03 -5.58400750e-02\n",
      "  3.92208882e-02  2.27196533e-02 -5.00413477e-02  1.02594718e-02\n",
      " -3.69935185e-02  4.52761054e-02 -5.53282956e-03  1.76086631e-02\n",
      " -1.53035484e-02  9.33527350e-02 -1.22900575e-01  3.90601084e-02\n",
      " -5.47973290e-02  3.31409648e-02  2.16368623e-02  5.93171529e-02\n",
      "  2.13470981e-02  3.93542238e-02  3.17848325e-02  3.27761844e-02\n",
      " -5.58960699e-02  7.33389258e-02  4.77991812e-02  5.07988185e-02\n",
      "  6.98787672e-03  7.89325684e-02 -1.73727795e-02  2.06753449e-03\n",
      " -2.32620407e-02  1.64681487e-02 -1.18873427e-02  4.39649336e-02\n",
      "  5.45223476e-03 -1.00774132e-01  1.06883883e-01  2.92691719e-02\n",
      "  7.84993544e-02  3.78868207e-02 -2.70145815e-02 -5.41160442e-02\n",
      " -1.55996278e-01 -2.57404298e-02 -6.36410788e-02 -1.10361122e-33\n",
      " -5.95986322e-02  6.01049475e-02 -1.70933623e-02 -8.74163117e-03\n",
      " -7.12879747e-02 -2.73488518e-02  6.32643253e-02  4.31880504e-02\n",
      "  3.44607010e-02  1.80959571e-02 -2.96642892e-02 -1.17327715e-03\n",
      "  6.22703843e-02 -1.72241358e-03  2.73852553e-02 -5.37699014e-02\n",
      " -4.75950465e-02  8.21214542e-02  2.06432305e-02  3.50941382e-02\n",
      "  7.97732845e-02 -4.19038422e-02  5.03832102e-02 -2.96555702e-02\n",
      "  8.58798772e-02  5.28135113e-02 -3.31799500e-02 -1.02620423e-02\n",
      "  1.20319456e-01  1.97692309e-02  2.94972006e-02  2.60551423e-02\n",
      "  6.39677793e-03 -7.08605722e-02 -2.61586718e-03 -3.38431858e-02\n",
      " -7.71916360e-02 -5.31519838e-02 -3.58584486e-02  8.89380351e-02\n",
      "  3.76223866e-03  3.45809348e-02  3.25097106e-02 -1.93697531e-02\n",
      " -1.23648785e-01  6.66531175e-02  5.44692278e-02  2.44826451e-02\n",
      "  5.35740741e-02  1.01490552e-02  3.93322594e-02 -2.80615948e-02\n",
      " -1.03309534e-01 -4.71768081e-02  3.27297337e-02 -1.82820894e-02\n",
      " -4.61337194e-02 -2.98891589e-03 -2.13992014e-03 -2.35056765e-02\n",
      " -6.04812279e-02 -4.08250391e-02  4.59113792e-02  6.73833787e-02\n",
      " -5.58072180e-02  1.13639571e-01  1.31326606e-02  6.61748871e-02\n",
      "  2.72222888e-02 -2.09982488e-02 -2.87348945e-02 -1.39770182e-02\n",
      "  5.90291470e-02  5.63585423e-02  1.42104886e-02 -3.74936089e-02\n",
      "  1.06050812e-01 -4.78849523e-02  6.97875069e-03  6.60848692e-02\n",
      "  1.05241761e-02  4.77809384e-02 -3.41505259e-02 -1.02919145e-02\n",
      " -7.79381953e-03  3.06307222e-03  6.24414831e-02  1.24828173e-02\n",
      "  4.74402793e-02 -4.75532711e-02  3.46447155e-02 -5.56979552e-02\n",
      " -2.74301805e-02 -1.66490208e-02 -8.81138146e-02  5.98771338e-35\n",
      " -1.08034546e-02  6.81245849e-02  3.86295083e-04 -2.23638839e-03\n",
      "  2.40212902e-02 -1.89762022e-02 -4.22678329e-03  1.46678731e-01\n",
      "  3.39536695e-03  6.78292513e-02 -2.00756602e-02 -1.96489338e-02\n",
      "  2.71408707e-02  4.19347584e-02 -2.81008407e-02  1.72505658e-02\n",
      "  4.19600867e-02 -5.95210232e-02 -4.04728251e-03 -6.77647293e-02\n",
      "  2.30447371e-02  7.14890808e-02  5.24135455e-02  6.50656745e-02\n",
      " -8.37134793e-02  3.27256843e-02 -1.12194687e-01 -7.56630599e-02\n",
      "  9.51864291e-03  5.69656715e-02  5.39666435e-05 -5.93231469e-02\n",
      " -5.22442535e-02  5.04540242e-02 -7.56762847e-02  4.56413366e-02\n",
      "  7.61122406e-02 -1.10682994e-02 -2.01844075e-03  6.26400784e-02\n",
      "  1.04368115e-02  2.29422357e-02  5.27324863e-02  6.85896054e-02\n",
      "  3.67907784e-03  1.87692512e-02 -1.11185377e-02 -3.49676497e-02\n",
      "  3.83362323e-02 -6.86134398e-02  8.03476479e-03 -4.65208106e-02\n",
      " -4.31195721e-02  1.88707225e-02 -9.62108076e-02  6.72206953e-02\n",
      "  5.75083718e-02 -3.04363314e-02 -1.66384336e-02 -6.48013502e-02\n",
      "  4.70557027e-02  8.81108735e-03 -3.35193574e-02 -1.60604753e-02\n",
      " -8.21671449e-03  2.84188916e-03 -5.83782904e-02 -2.72899065e-02\n",
      "  1.61517318e-02  4.11265381e-02  4.98856567e-02  4.06100927e-03\n",
      "  2.20547747e-02  1.36927115e-02 -4.93103601e-02  4.56384644e-02\n",
      "  5.15254959e-03 -1.81488916e-02  1.19174801e-01  1.09839942e-02\n",
      "  2.23665014e-02  2.56515238e-02  4.68668379e-02  3.17228138e-02\n",
      " -3.01446896e-02 -9.80227590e-02 -6.34280499e-03 -4.68166322e-02\n",
      " -9.26629752e-02 -2.24732924e-02 -9.64155570e-02 -2.01412849e-02\n",
      "  2.64321696e-02 -1.30996294e-03  2.35014297e-02 -2.00327381e-08\n",
      " -9.36238375e-03 -1.13682384e-02 -1.62765011e-02  6.91603776e-03\n",
      " -1.10459104e-02 -2.54874881e-02 -3.57811972e-02  5.44178449e-02\n",
      "  1.96104106e-02  3.81830968e-02  1.51271969e-02 -1.69942714e-02\n",
      " -6.05136603e-02 -3.11238435e-03 -1.15100004e-01 -2.53065657e-02\n",
      " -6.94840476e-02  5.36122099e-02 -5.15292250e-02 -1.10697560e-01\n",
      " -1.98985897e-02  1.04177460e-01 -2.99619809e-02 -2.77227461e-02\n",
      "  5.96219636e-02 -2.28884909e-02 -2.17609480e-02  1.06170513e-01\n",
      " -6.28596023e-02 -3.92353348e-02 -6.44699261e-02 -1.99023983e-03\n",
      " -5.55483252e-02 -4.23551872e-02 -4.62434255e-02 -5.66001935e-03\n",
      " -1.92081109e-02  4.05880529e-03  1.22638198e-03 -9.34171770e-03\n",
      "  8.40316899e-03 -4.78754900e-02 -1.19883418e-02  2.29560789e-02\n",
      "  3.77719589e-02 -2.82288231e-02 -1.25547573e-01 -4.89415303e-02\n",
      " -6.79273158e-03 -1.95429876e-01  1.40820695e-02  3.03874202e-02\n",
      " -7.45459320e-03  4.88871969e-02 -5.75007405e-04 -1.57866273e-02\n",
      " -7.73179531e-02  1.21100224e-03 -3.83037925e-02  3.73149524e-03\n",
      " -8.98300577e-03 -7.69307241e-02  1.30502563e-02 -5.38381524e-02]\n"
     ]
    }
   ],
   "source": [
    "from sentence_transformers import SentenceTransformer\n",
    "\n",
    "# Load the embedding model\n",
    "model = SentenceTransformer(\"sentence-transformers/all-MiniLM-L6-v2\")\n",
    "\n",
    "# Sample questions from the dataset\n",
    "sample_questions = [\n",
    "    \"What is the FY2018 capital expenditure amount (in USD millions) for 3M?\",\n",
    "    \"What was the revenue for Apple in 2020?\",\n",
    "    \"How much did Tesla spend on R&D in 2019?\"\n",
    "]\n",
    "\n",
    "# Generate embeddings\n",
    "embeddings = model.encode(sample_questions)\n",
    "\n",
    "# Print the shape of embeddings and first embedding\n",
    "print(f\"Embedding shape: {embeddings.shape}\")\n",
    "print(f\"First embedding: {embeddings[0]}\")\n"
   ]
  },
  {
   "cell_type": "code",
   "execution_count": 5,
   "metadata": {},
   "outputs": [
    {
     "name": "stdout",
     "output_type": "stream",
     "text": [
      "Cosine Similarity Matrix:\n",
      "[[1.         0.99057863 0.95941195]\n",
      " [0.99057863 1.         0.97209578]\n",
      " [0.95941195 0.97209578 1.        ]]\n",
      "Most similar questions: (0, 1) with similarity 0.9906\n"
     ]
    }
   ],
   "source": [
    "from sklearn.metrics.pairwise import cosine_similarity\n",
    "import numpy as np\n",
    "\n",
    "# Example embeddings (Replace with actual embeddings you obtained)\n",
    "embeddings = np.array([\n",
    "    [0.1, 0.2, 0.3],  # Embedding for question 1\n",
    "    [0.15, 0.18, 0.32],  # Embedding for question 2\n",
    "    [0.7, 0.8, 0.9]  # Embedding for question 3\n",
    "])\n",
    "\n",
    "# Compute cosine similarity matrix\n",
    "similarity_matrix = cosine_similarity(embeddings)\n",
    "\n",
    "# Print similarity scores\n",
    "print(\"Cosine Similarity Matrix:\")\n",
    "print(similarity_matrix)\n",
    "\n",
    "# Find most similar pair (excluding self-similarity)\n",
    "n = similarity_matrix.shape[0]\n",
    "most_similar_pair = None\n",
    "max_similarity = -1\n",
    "for i in range(n):\n",
    "    for j in range(i + 1, n):  # Avoid duplicate pairs\n",
    "        if similarity_matrix[i][j] > max_similarity:\n",
    "            max_similarity = similarity_matrix[i][j]\n",
    "            most_similar_pair = (i, j)\n",
    "\n",
    "print(f\"Most similar questions: {most_similar_pair} with similarity {max_similarity:.4f}\")\n"
   ]
  },
  {
   "cell_type": "code",
   "execution_count": 6,
   "metadata": {},
   "outputs": [],
   "source": [
    "import cohere\n",
    "import voyageai\n",
    "import numpy as np\n",
    "from sklearn.metrics.pairwise import cosine_similarity\n",
    "\n",
    "# Initialize API Clients\n",
    "cohere_client = cohere.Client(\"BUXKh4me7vk6wLP1st1UKMERCZ4CGNr4CegNCMoE\")\n",
    "voyage_client = voyageai.Client(\"pa-a7-PB4Iy-Zs1ZOQzSI3mZJCK_3jYw_-xjGSlBG2r0_a\")\n",
    "\n",
    "# Sample Questions\n",
    "questions = [\n",
    "    \"What is the FY2018 capital expenditure amount (in USD millions) for 3M?\",\n",
    "    \"Provide the total capital expenditure for 3M in 2018.\",\n",
    "    \"How much did 3M spend on property, plant, and equipment in 2018?\"\n",
    "]\n",
    "\n",
    "# Get Embeddings from Cohere\n",
    "cohere_embeddings = cohere_client.embed(\n",
    "    texts=questions, \n",
    "    model=\"embed-english-v3.0\", \n",
    "    input_type=\"search_document\"\n",
    ").embeddings  # Use .embeddings instead of [\"embeddings\"]\n",
    "\n",
    "# Get Embeddings from Voyage AI\n",
    "voyage_embeddings = voyage_client.embed(\n",
    "    texts=questions, model=\"voyage-02\"\n",
    ").embeddings\n"
   ]
  },
  {
   "cell_type": "code",
   "execution_count": 7,
   "metadata": {},
   "outputs": [
    {
     "name": "stdout",
     "output_type": "stream",
     "text": [
      "Cosine Similarity Matrix (Cohere AI):\n",
      "[[1.         0.86158897 0.75958576]\n",
      " [0.86158897 1.         0.78105244]\n",
      " [0.75958576 0.78105244 1.        ]]\n",
      "\n",
      "Cosine Similarity Matrix (Voyage AI):\n",
      "[[1.         0.94462317 0.91197564]\n",
      " [0.94462317 1.         0.90695582]\n",
      " [0.91197564 0.90695582 1.        ]]\n",
      "\n",
      "Most similar questions (Cohere AI): (0, 1) with similarity 0.8616\n",
      "Most similar questions (Voyage AI): (0, 1) with similarity 0.9446\n"
     ]
    }
   ],
   "source": [
    "from sklearn.metrics.pairwise import cosine_similarity\n",
    "\n",
    "# Compute cosine similarity for Cohere embeddings\n",
    "cohere_similarity = cosine_similarity(cohere_embeddings)\n",
    "print(\"Cosine Similarity Matrix (Cohere AI):\")\n",
    "print(cohere_similarity)\n",
    "\n",
    "# Compute cosine similarity for Voyage AI embeddings\n",
    "voyage_similarity = cosine_similarity(voyage_embeddings)\n",
    "print(\"\\nCosine Similarity Matrix (Voyage AI):\")\n",
    "print(voyage_similarity)\n",
    "\n",
    "# Find the most similar pair for each model\n",
    "import numpy as np\n",
    "\n",
    "def find_most_similar(similarity_matrix):\n",
    "    np.fill_diagonal(similarity_matrix, 0)  # Ignore self-similarity\n",
    "    max_idx = np.unravel_index(np.argmax(similarity_matrix), similarity_matrix.shape)\n",
    "    return max_idx, similarity_matrix[max_idx]\n",
    "\n",
    "# Most similar pair for Cohere AI\n",
    "cohere_pair, cohere_score = find_most_similar(cohere_similarity)\n",
    "print(f\"\\nMost similar questions (Cohere AI): {cohere_pair} with similarity {cohere_score:.4f}\")\n",
    "\n",
    "# Most similar pair for Voyage AI\n",
    "voyage_pair, voyage_score = find_most_similar(voyage_similarity)\n",
    "print(f\"Most similar questions (Voyage AI): {voyage_pair} with similarity {voyage_score:.4f}\")\n"
   ]
  },
  {
   "cell_type": "code",
   "execution_count": 8,
   "metadata": {},
   "outputs": [],
   "source": [
    "documents = {\n",
    "    \"Apple's 2023 Revenue Report\": \"In 2023, Apple reported a total revenue of $394 billion, driven by strong sales in iPhones, MacBooks, and services. The company's revenue from services, including iCloud and Apple Music, reached a record high of $85 billion.\",\n",
    "    \n",
    "    \"Microsoft's Cloud Growth\": \"Microsoft Azure saw a 35% increase in revenue in 2023, making it a strong competitor to AWS. The company’s cloud division now contributes 45% of total Microsoft revenue, with enterprise AI services driving significant growth.\",\n",
    "    \n",
    "    \"Tesla's EV Market Share\": \"Tesla maintained a 65% market share in the U.S. electric vehicle sector in 2023. The company produced over 1.8 million EVs, with the Model Y being the best-selling electric car worldwide. Tesla also expanded its Supercharger network to support growing demand.\",\n",
    "    \n",
    "    \"AI Trends in 2024\": \"In 2024, artificial intelligence continues to evolve, with breakthroughs in generative AI, autonomous agents, and multimodal models. Companies are integrating AI-driven automation across industries, boosting productivity and efficiency.\"\n",
    "}"
   ]
  },
  {
   "cell_type": "code",
   "execution_count": 10,
   "metadata": {},
   "outputs": [],
   "source": [
    "# Define stored documents\n",
    "documents = [\n",
    "    \"In 2023, Apple reported a total revenue of $394 billion, driven by strong sales in iPhones, MacBooks, and services. The company's revenue from services, including iCloud and Apple Music, reached a record high of $85 billion.\",\n",
    "    \"Microsoft Azure saw a 35% increase in revenue in 2023, making it a strong competitor to AWS. The company’s cloud division now contributes 45% of total Microsoft revenue, with enterprise AI services driving significant growth.\",\n",
    "    \"Tesla maintained a 65% market share in the U.S. electric vehicle sector in 2023. The company produced over 1.8 million EVs, with the Model Y being the best-selling electric car worldwide. Tesla also expanded its Supercharger network to support growing demand.\"\n",
    "]\n",
    "\n",
    "# Generate Cohere embeddings for all documents in one call\n",
    "cohere_embeddings = cohere_client.embed(\n",
    "    texts=documents,\n",
    "    model=\"embed-english-v3.0\",\n",
    "    input_type=\"search_document\"\n",
    ").embeddings\n",
    "\n",
    "# Generate Voyage AI embeddings for all documents in one call\n",
    "voyage_embeddings = voyage_client.embed(\n",
    "    texts=documents,\n",
    "    model=\"voyage-02\"\n",
    ").embeddings\n",
    "\n",
    "# Combine documents and embeddings\n",
    "stored_documents = []\n",
    "for i, doc in enumerate(documents):\n",
    "    stored_documents.append({\n",
    "        \"text\": doc,\n",
    "        \"cohere\": cohere_embeddings[i],\n",
    "        \"voyage\": voyage_embeddings[i]\n",
    "    })\n"
   ]
  },
  {
   "cell_type": "code",
   "execution_count": 11,
   "metadata": {},
   "outputs": [
    {
     "name": "stdout",
     "output_type": "stream",
     "text": [
      "Most relevant document (Cohere AI): In 2023, Apple reported a total revenue of $394 billion, driven by strong sales in iPhones, MacBooks, and services. The company's revenue from services, including iCloud and Apple Music, reached a record high of $85 billion.\n",
      "Similarity Score (Cohere AI): 0.8281903570654139\n",
      "\n",
      "Most relevant document (Voyage AI): In 2023, Apple reported a total revenue of $394 billion, driven by strong sales in iPhones, MacBooks, and services. The company's revenue from services, including iCloud and Apple Music, reached a record high of $85 billion.\n",
      "Similarity Score (Voyage AI): 0.9088975898903648\n"
     ]
    }
   ],
   "source": [
    "from sklearn.metrics.pairwise import cosine_similarity\n",
    "import numpy as np\n",
    "\n",
    "# Query to test retrieval\n",
    "query = \"What was Apple's total revenue in 2023?\"\n",
    "\n",
    "# Get query embeddings from Cohere AI\n",
    "cohere_query_embedding = cohere_client.embed(\n",
    "    texts=[query], model=\"embed-english-v3.0\", input_type=\"search_query\"\n",
    ").embeddings[0]\n",
    "\n",
    "# Get query embeddings from Voyage AI\n",
    "voyage_query_embedding = voyage_client.embed(\n",
    "    texts=[query], model=\"voyage-02\"\n",
    ").embeddings[0]\n",
    "\n",
    "# Convert stored document embeddings into numpy arrays\n",
    "doc_embeddings_cohere = np.array([doc[\"cohere\"] for doc in stored_documents])\n",
    "doc_embeddings_voyage = np.array([doc[\"voyage\"] for doc in stored_documents])\n",
    "\n",
    "# Compute cosine similarity between query and stored documents\n",
    "cohere_similarities = cosine_similarity([cohere_query_embedding], doc_embeddings_cohere)[0]\n",
    "voyage_similarities = cosine_similarity([voyage_query_embedding], doc_embeddings_voyage)[0]\n",
    "\n",
    "# Find most relevant document\n",
    "most_similar_cohere_idx = np.argmax(cohere_similarities)\n",
    "most_similar_voyage_idx = np.argmax(voyage_similarities)\n",
    "\n",
    "# Retrieve the document with highest similarity\n",
    "most_relevant_doc_cohere = stored_documents[most_similar_cohere_idx][\"text\"]\n",
    "most_relevant_doc_voyage = stored_documents[most_similar_voyage_idx][\"text\"]\n",
    "\n",
    "# Display results\n",
    "print(\"Most relevant document (Cohere AI):\", most_relevant_doc_cohere)\n",
    "print(\"Similarity Score (Cohere AI):\", cohere_similarities[most_similar_cohere_idx])\n",
    "print()\n",
    "print(\"Most relevant document (Voyage AI):\", most_relevant_doc_voyage)\n",
    "print(\"Similarity Score (Voyage AI):\", voyage_similarities[most_similar_voyage_idx])\n"
   ]
  },
  {
   "cell_type": "markdown",
   "metadata": {},
   "source": [
    "Why Does Voyage AI Give a Higher Similarity Score?"
   ]
  },
  {
   "cell_type": "code",
   "execution_count": 12,
   "metadata": {},
   "outputs": [
    {
     "name": "stdout",
     "output_type": "stream",
     "text": [
      "Cohere AI Embedding Norms: [0.99945043 1.00021632 0.99992119]\n",
      "Voyage AI Embedding Norms: [0.99999994 0.99999996 1.00000003]\n",
      "Average Similarity Score (Cohere AI): 0.6623\n",
      "Average Similarity Score (Voyage AI): 0.8527\n"
     ]
    }
   ],
   "source": [
    "import numpy as np\n",
    "\n",
    "# Compute norms for document embeddings\n",
    "cohere_norms = np.linalg.norm(doc_embeddings_cohere, axis=1)\n",
    "voyage_norms = np.linalg.norm(doc_embeddings_voyage, axis=1)\n",
    "\n",
    "print(\"Cohere AI Embedding Norms:\", cohere_norms)\n",
    "print(\"Voyage AI Embedding Norms:\", voyage_norms)\n",
    "\n",
    "# Compute average similarity across all document pairs\n",
    "avg_cohere_sim = np.mean(cosine_similarity(doc_embeddings_cohere))\n",
    "avg_voyage_sim = np.mean(cosine_similarity(doc_embeddings_voyage))\n",
    "\n",
    "print(f\"Average Similarity Score (Cohere AI): {avg_cohere_sim:.4f}\")\n",
    "print(f\"Average Similarity Score (Voyage AI): {avg_voyage_sim:.4f}\")\n"
   ]
  },
  {
   "cell_type": "markdown",
   "metadata": {},
   "source": [
    "🔍 Analysis of Higher Similarity Scores in Voyage AI\n",
    "Your output shows two key insights:\n",
    "\n",
    "1️⃣ Voyage AI Embeddings Are More Compact\n",
    "\n",
    "The norms for Voyage AI embeddings are almost exactly 1 (0.99999994, 1.00000003), meaning the vectors are very well normalized.\n",
    "Cohere AI embeddings show slight variation (1.0001059, 1.00018684, etc.), indicating more spread in vector magnitudes.\n",
    "A more compact embedding space usually leads to higher similarity scores because vectors tend to be closer together.\n",
    "2️⃣ Voyage AI Has Higher Average Similarity (0.8633 vs. 0.7120)\n",
    "\n",
    "This suggests that Voyage embeddings cluster more closely in the vector space.\n",
    "If a model generates embeddings that are more tightly packed, it will naturally assign higher similarity scores to even moderately related queries.\n",
    "Cohere AI has a more dispersed embedding space, leading to more nuanced similarity measurements."
   ]
  },
  {
   "cell_type": "markdown",
   "metadata": {},
   "source": [
    "Let's visualize the embeddings using PCA (Principal Component Analysis) and t-SNE (t-Distributed Stochastic Neighbor Embedding) to compare how Cohere AI and Voyage AI distribute their embeddings in vector space.\n",
    "\n",
    "📌 Steps:\n",
    "1️⃣ Reduce embeddings to 2D space using PCA\n",
    "2️⃣ Reduce embeddings to 2D space using t-SNE\n",
    "3️⃣ Plot both visualizations and compare how Cohere AI and Voyage AI cluster their embeddings."
   ]
  },
  {
   "cell_type": "code",
   "execution_count": 13,
   "metadata": {},
   "outputs": [
    {
     "name": "stdout",
     "output_type": "stream",
     "text": [
      "Explained variance by PCA: [0.59045807 0.40954193]\n"
     ]
    },
    {
     "data": {
      "image/png": "[encoded data removed]",
      "text/plain": [
       "<Figure size 1200x500 with 2 Axes>"
      ]
     },
     "metadata": {},
     "output_type": "display_data"
    }
   ],
   "source": [
    "import numpy as np\n",
    "import matplotlib.pyplot as plt\n",
    "from sklearn.decomposition import PCA\n",
    "from sklearn.manifold import TSNE\n",
    "\n",
    "# Convert stored document embeddings into numpy arrays\n",
    "doc_embeddings_cohere = np.array([doc[\"cohere\"] for doc in stored_documents])\n",
    "doc_embeddings_voyage = np.array([doc[\"voyage\"] for doc in stored_documents])\n",
    "\n",
    "# Reduce embeddings to 2D using PCA (fit once for consistency)\n",
    "pca = PCA(n_components=2)\n",
    "cohere_pca = pca.fit_transform(doc_embeddings_cohere)\n",
    "voyage_pca = pca.transform(doc_embeddings_voyage)  # Transform using the same PCA\n",
    "\n",
    "# Print explained variance ratio\n",
    "print(\"Explained variance by PCA:\", pca.explained_variance_ratio_)\n",
    "\n",
    "# Dynamically set perplexity for t-SNE (must be < n_samples / 3 for stability)\n",
    "perplexity_cohere = min(30, len(doc_embeddings_cohere) // 3)\n",
    "perplexity_voyage = min(30, len(doc_embeddings_voyage) // 3)\n",
    "\n",
    "# Reduce embeddings to 2D using t-SNE\n",
    "tsne_cohere = TSNE(n_components=2, perplexity=perplexity_cohere, random_state=42)\n",
    "cohere_tsne = tsne_cohere.fit_transform(doc_embeddings_cohere)\n",
    "\n",
    "tsne_voyage = TSNE(n_components=2, perplexity=perplexity_voyage, random_state=42)\n",
    "voyage_tsne = tsne_voyage.fit_transform(doc_embeddings_voyage)\n",
    "\n",
    "# Define colors and markers for differentiation\n",
    "colors = ['blue', 'red']\n",
    "markers = ['o', 's']  # Circle for Cohere, Square for Voyage\n",
    "\n",
    "# Plot PCA results\n",
    "plt.figure(figsize=(12, 5))\n",
    "\n",
    "plt.subplot(1, 2, 1)\n",
    "plt.scatter(cohere_pca[:, 0], cohere_pca[:, 1], c=colors[0], marker=markers[0], label='Cohere AI', alpha=0.7)\n",
    "plt.scatter(voyage_pca[:, 0], voyage_pca[:, 1], c=colors[1], marker=markers[1], label='Voyage AI', alpha=0.7)\n",
    "plt.title('PCA: Cohere vs Voyage AI Embeddings')\n",
    "plt.xlabel('Principal Component 1')\n",
    "plt.ylabel('Principal Component 2')\n",
    "plt.legend()\n",
    "plt.grid(True)\n",
    "\n",
    "# Plot t-SNE results\n",
    "plt.subplot(1, 2, 2)\n",
    "plt.scatter(cohere_tsne[:, 0], cohere_tsne[:, 1], c=colors[0], marker=markers[0], label='Cohere AI', alpha=0.7)\n",
    "plt.scatter(voyage_tsne[:, 0], voyage_tsne[:, 1], c=colors[1], marker=markers[1], label='Voyage AI', alpha=0.7)\n",
    "plt.title('t-SNE: Cohere vs Voyage AI Embeddings')\n",
    "plt.xlabel('t-SNE Component 1')\n",
    "plt.ylabel('t-SNE Component 2')\n",
    "plt.legend()\n",
    "plt.grid(True)\n",
    "\n",
    "plt.tight_layout()\n",
    "plt.show()\n"
   ]
  },
  {
   "cell_type": "code",
   "execution_count": 14,
   "metadata": {},
   "outputs": [
    {
     "name": "stdout",
     "output_type": "stream",
     "text": [
      "Cohere MAP Score: 1.0\n",
      "Voyage MAP Score: 1.0\n"
     ]
    },
    {
     "data": {
      "image/png": "[encoded data removed]",
      "text/plain": [
       "<Figure size 800x500 with 1 Axes>"
      ]
     },
     "metadata": {},
     "output_type": "display_data"
    }
   ],
   "source": [
    "import cohere\n",
    "import voyageai\n",
    "import numpy as np\n",
    "from sklearn.metrics.pairwise import cosine_similarity\n",
    "from sklearn.metrics import average_precision_score\n",
    "import matplotlib.pyplot as plt\n",
    "\n",
    "# Initialize API Clients\n",
    "cohere_client = cohere.Client(\"BUXKh4me7vk6wLP1st1UKMERCZ4CGNr4CegNCMoE\")\n",
    "voyage_client = voyageai.Client(\"pa-a7-PB4Iy-Zs1ZOQzSI3mZJCK_3jYw_-xjGSlBG2r0_a\")\n",
    "\n",
    "# Sample Questions\n",
    "questions = [\n",
    "    \"What is the FY2018 capital expenditure amount (in USD millions) for 3M?\",\n",
    "    \"Provide the total capital expenditure for 3M in 2018.\",\n",
    "    \"How much did 3M spend on property, plant, and equipment in 2018?\"\n",
    "]\n",
    "\n",
    "# Generate Dummy Labels for Evaluation (Assuming first question is the most relevant)\n",
    "true_labels = [1, 0, 0]  \n",
    "\n",
    "# Get Embeddings from Cohere\n",
    "cohere_embeddings = cohere_client.embed(\n",
    "    texts=questions, \n",
    "    model=\"embed-english-v3.0\", \n",
    "    input_type=\"search_document\"\n",
    ").embeddings  \n",
    "\n",
    "# Get Embeddings from Voyage AI\n",
    "voyage_embeddings = voyage_client.embed(\n",
    "    texts=questions, model=\"voyage-02\"\n",
    ").embeddings\n",
    "\n",
    "# Calculate Cosine Similarities\n",
    "cohere_similarities = cosine_similarity([cohere_embeddings[0]], cohere_embeddings)[0]\n",
    "voyage_similarities = cosine_similarity([voyage_embeddings[0]], voyage_embeddings)[0]\n",
    "\n",
    "# Calculate Mean Average Precision (MAP)\n",
    "cohere_map = average_precision_score(true_labels, cohere_similarities)\n",
    "voyage_map = average_precision_score(true_labels, voyage_similarities)\n",
    "\n",
    "# Print MAP Scores\n",
    "print(f\"Cohere MAP Score: {cohere_map}\")\n",
    "print(f\"Voyage MAP Score: {voyage_map}\")\n",
    "\n",
    "# Plotting Comparison\n",
    "plt.figure(figsize=(8, 5))\n",
    "plt.bar(['Cohere', 'Voyage AI'], [cohere_map, voyage_map], color=['blue', 'green'])\n",
    "plt.title('Comparison of MAP Scores - Cohere vs. Voyage AI')\n",
    "plt.xlabel('Embedding Models')\n",
    "plt.ylabel('MAP Score')\n",
    "plt.show()\n"
   ]
  }
 ],
 "metadata": {
  "kernelspec": {
   "display_name": "Python 3",
   "language": "python",
   "name": "python3"
  },
  "language_info": {
   "codemirror_mode": {
    "name": "ipython",
    "version": 3
   },
   "file_extension": ".py",
   "mimetype": "text/x-python",
   "name": "python",
   "nbconvert_exporter": "python",
   "pygments_lexer": "ipython3",
   "version": "3.12.2"
  }
 },
 "nbformat": 4,
 "nbformat_minor": 2
}
